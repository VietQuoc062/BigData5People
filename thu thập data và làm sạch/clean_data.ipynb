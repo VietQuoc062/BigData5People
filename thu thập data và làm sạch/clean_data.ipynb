{
 "cells": [
  {
   "cell_type": "markdown",
   "id": "7e6672c8",
   "metadata": {},
   "source": [
    "## itviec"
   ]
  },
  {
   "cell_type": "code",
   "execution_count": null,
   "id": "25d0c802",
   "metadata": {},
   "outputs": [],
   "source": [
    "import pandas as pd\n",
    "\n",
    "data_itviec = pd.read_csv(\"itviec_test.csv\")\n",
    "data_itviec.head()"
   ]
  },
  {
   "cell_type": "code",
   "execution_count": null,
   "id": "d822bc24",
   "metadata": {},
   "outputs": [],
   "source": [
    "# in ra tên các cột\n",
    "data_itviec.columns"
   ]
  },
  {
   "cell_type": "code",
   "execution_count": null,
   "id": "7c0afdf4",
   "metadata": {},
   "outputs": [],
   "source": []
  },
  {
   "cell_type": "code",
   "execution_count": null,
   "id": "4c3e84eb",
   "metadata": {},
   "outputs": [],
   "source": [
    "# đếm số lượng giá trị null trong cột 'Job name'\n",
    "data_itviec['Job name'].isnull().sum()"
   ]
  },
  {
   "cell_type": "code",
   "execution_count": null,
   "id": "bac05784",
   "metadata": {},
   "outputs": [],
   "source": [
    "data_itviec.info()"
   ]
  },
  {
   "cell_type": "code",
   "execution_count": null,
   "id": "1c59263c",
   "metadata": {},
   "outputs": [],
   "source": [
    "data_itviec.describe()"
   ]
  },
  {
   "cell_type": "code",
   "execution_count": null,
   "id": "ea0f3489",
   "metadata": {},
   "outputs": [],
   "source": []
  },
  {
   "cell_type": "code",
   "execution_count": null,
   "id": "16c4003b",
   "metadata": {},
   "outputs": [],
   "source": [
    "# xoá \\n trong cột 'Company size'\n",
    "import pandas as pd\n",
    "\n",
    "# Đọc file CSV\n",
    "df = pd.read_csv('itviet_test.csv')\n",
    "\n",
    "# Thay thế ký tự xuống dòng trong cột 'Company size'\n",
    "df['Company size'] = df['Company size'].astype(str).str.replace('\\n', ' ', regex=True)\n",
    "\n",
    "# Lưu lại file đã xử lý\n",
    "df.to_csv('itviet_cleaned.csv', encoding='utf-8-sig', index=False)"
   ]
  },
  {
   "cell_type": "markdown",
   "id": "30acc59f",
   "metadata": {},
   "source": [
    "## topdev"
   ]
  },
  {
   "cell_type": "code",
   "execution_count": 2,
   "id": "f9efa7bf",
   "metadata": {},
   "outputs": [
    {
     "data": {
      "text/html": [
       "<div>\n",
       "<style scoped>\n",
       "    .dataframe tbody tr th:only-of-type {\n",
       "        vertical-align: middle;\n",
       "    }\n",
       "\n",
       "    .dataframe tbody tr th {\n",
       "        vertical-align: top;\n",
       "    }\n",
       "\n",
       "    .dataframe thead th {\n",
       "        text-align: right;\n",
       "    }\n",
       "</style>\n",
       "<table border=\"1\" class=\"dataframe\">\n",
       "  <thead>\n",
       "    <tr style=\"text-align: right;\">\n",
       "      <th></th>\n",
       "      <th>Job name</th>\n",
       "      <th>Company name</th>\n",
       "      <th>Lương</th>\n",
       "      <th>Skills</th>\n",
       "      <th>Address</th>\n",
       "      <th>Work days</th>\n",
       "      <th>Level</th>\n",
       "      <th>Kinh nghiệm</th>\n",
       "      <th>Company size</th>\n",
       "      <th>link</th>\n",
       "    </tr>\n",
       "  </thead>\n",
       "  <tbody>\n",
       "    <tr>\n",
       "      <th>0</th>\n",
       "      <td>Chuyên viên Kiểm thử phần mềm - Manual Tester ...</td>\n",
       "      <td>MBBANK</td>\n",
       "      <td>Negotiable</td>\n",
       "      <td>Tester, xCode, Manual Test</td>\n",
       "      <td>Quận Cầu Giấy, Hà Nội</td>\n",
       "      <td>Fulltime</td>\n",
       "      <td>Junior, Middle</td>\n",
       "      <td>2 năm</td>\n",
       "      <td>Hơn 1000 Employees</td>\n",
       "      <td>https://topdev.vn/detail-jobs/chuyen-vien-kiem...</td>\n",
       "    </tr>\n",
       "    <tr>\n",
       "      <th>1</th>\n",
       "      <td>JWAT Training Program (Java/Javascript)</td>\n",
       "      <td>CyberLogitec Vietnam Co., Ltd.</td>\n",
       "      <td>Negotiable</td>\n",
       "      <td>Java, JavaScript, PostgreSql</td>\n",
       "      <td>Quận Tân Bình, Hồ Chí Minh</td>\n",
       "      <td>Fulltime</td>\n",
       "      <td>Fresher, Intern</td>\n",
       "      <td>Không yêu cầu</td>\n",
       "      <td>500-999 Employees</td>\n",
       "      <td>https://topdev.vn/detail-jobs/jwat-training-pr...</td>\n",
       "    </tr>\n",
       "    <tr>\n",
       "      <th>2</th>\n",
       "      <td>Tester (Member/Leader)</td>\n",
       "      <td>INFOPLUS</td>\n",
       "      <td>Up to 25.000.000 VND</td>\n",
       "      <td>Tester, Automation Tester, Manual Tester</td>\n",
       "      <td>Quận Nam Từ Liêm, Hà Nội</td>\n",
       "      <td>Fulltime</td>\n",
       "      <td>Trưởng Nhóm, Middle, Senior</td>\n",
       "      <td>3 năm</td>\n",
       "      <td>100-499 Employees</td>\n",
       "      <td>https://topdev.vn/detail-jobs/tester-member-le...</td>\n",
       "    </tr>\n",
       "    <tr>\n",
       "      <th>3</th>\n",
       "      <td>Dotnet/C# Developer</td>\n",
       "      <td>INFOPLUS</td>\n",
       "      <td>Up to 15.000.000 VND</td>\n",
       "      <td>C#, .NET, Winform</td>\n",
       "      <td>Quận Nam Từ Liêm, Hà Nội</td>\n",
       "      <td>Fulltime</td>\n",
       "      <td>Junior, Middle</td>\n",
       "      <td>2 năm</td>\n",
       "      <td>100-499 Employees</td>\n",
       "      <td>https://topdev.vn/detail-jobs/dotnet-c-develop...</td>\n",
       "    </tr>\n",
       "    <tr>\n",
       "      <th>4</th>\n",
       "      <td>Salesforce Marketing Cloud Developer</td>\n",
       "      <td>DTN E-COMMERCE SOFTWARE COMPANY LIMITED</td>\n",
       "      <td>Negotiable</td>\n",
       "      <td>SQL, Marketing, Cloud</td>\n",
       "      <td>Quận Nam Từ Liêm, Hà Nội</td>\n",
       "      <td>Fulltime</td>\n",
       "      <td>Middle, Senior</td>\n",
       "      <td>3 năm</td>\n",
       "      <td>25-99 Employees</td>\n",
       "      <td>https://topdev.vn/detail-jobs/salesforce-marke...</td>\n",
       "    </tr>\n",
       "  </tbody>\n",
       "</table>\n",
       "</div>"
      ],
      "text/plain": [
       "                                            Job name  \\\n",
       "0  Chuyên viên Kiểm thử phần mềm - Manual Tester ...   \n",
       "1            JWAT Training Program (Java/Javascript)   \n",
       "2                             Tester (Member/Leader)   \n",
       "3                                Dotnet/C# Developer   \n",
       "4               Salesforce Marketing Cloud Developer   \n",
       "\n",
       "                              Company name                 Lương  \\\n",
       "0                                   MBBANK            Negotiable   \n",
       "1           CyberLogitec Vietnam Co., Ltd.            Negotiable   \n",
       "2                                 INFOPLUS  Up to 25.000.000 VND   \n",
       "3                                 INFOPLUS  Up to 15.000.000 VND   \n",
       "4  DTN E-COMMERCE SOFTWARE COMPANY LIMITED            Negotiable   \n",
       "\n",
       "                                     Skills                     Address  \\\n",
       "0                Tester, xCode, Manual Test       Quận Cầu Giấy, Hà Nội   \n",
       "1              Java, JavaScript, PostgreSql  Quận Tân Bình, Hồ Chí Minh   \n",
       "2  Tester, Automation Tester, Manual Tester    Quận Nam Từ Liêm, Hà Nội   \n",
       "3                         C#, .NET, Winform    Quận Nam Từ Liêm, Hà Nội   \n",
       "4                     SQL, Marketing, Cloud    Quận Nam Từ Liêm, Hà Nội   \n",
       "\n",
       "  Work days                        Level    Kinh nghiệm        Company size  \\\n",
       "0  Fulltime               Junior, Middle          2 năm  Hơn 1000 Employees   \n",
       "1  Fulltime              Fresher, Intern  Không yêu cầu   500-999 Employees   \n",
       "2  Fulltime  Trưởng Nhóm, Middle, Senior          3 năm   100-499 Employees   \n",
       "3  Fulltime               Junior, Middle          2 năm   100-499 Employees   \n",
       "4  Fulltime               Middle, Senior          3 năm     25-99 Employees   \n",
       "\n",
       "                                                link  \n",
       "0  https://topdev.vn/detail-jobs/chuyen-vien-kiem...  \n",
       "1  https://topdev.vn/detail-jobs/jwat-training-pr...  \n",
       "2  https://topdev.vn/detail-jobs/tester-member-le...  \n",
       "3  https://topdev.vn/detail-jobs/dotnet-c-develop...  \n",
       "4  https://topdev.vn/detail-jobs/salesforce-marke...  "
      ]
     },
     "execution_count": 2,
     "metadata": {},
     "output_type": "execute_result"
    }
   ],
   "source": [
    "import pandas as pd\n",
    "data_topdev = pd.read_csv(\"topdev_test.csv\")\n",
    "data_topdev.head()"
   ]
  },
  {
   "cell_type": "code",
   "execution_count": 3,
   "id": "3d0924d8",
   "metadata": {},
   "outputs": [
    {
     "name": "stdout",
     "output_type": "stream",
     "text": [
      "Job name        0\n",
      "Company name    0\n",
      "Lương           0\n",
      "Skills          0\n",
      "Address         0\n",
      "Work days       0\n",
      "Level           0\n",
      "Kinh nghiệm     1\n",
      "Company size    0\n",
      "link            0\n",
      "dtype: int64\n"
     ]
    }
   ],
   "source": [
    "print(data_topdev.isnull().sum())"
   ]
  },
  {
   "cell_type": "code",
   "execution_count": 4,
   "id": "eba2336f",
   "metadata": {},
   "outputs": [
    {
     "name": "stdout",
     "output_type": "stream",
     "text": [
      "<class 'pandas.core.frame.DataFrame'>\n",
      "RangeIndex: 275 entries, 0 to 274\n",
      "Data columns (total 10 columns):\n",
      " #   Column        Non-Null Count  Dtype \n",
      "---  ------        --------------  ----- \n",
      " 0   Job name      275 non-null    object\n",
      " 1   Company name  275 non-null    object\n",
      " 2   Lương         275 non-null    object\n",
      " 3   Skills        275 non-null    object\n",
      " 4   Address       275 non-null    object\n",
      " 5   Work days     275 non-null    object\n",
      " 6   Level         275 non-null    object\n",
      " 7   Kinh nghiệm   274 non-null    object\n",
      " 8   Company size  275 non-null    object\n",
      " 9   link          275 non-null    object\n",
      "dtypes: object(10)\n",
      "memory usage: 21.6+ KB\n"
     ]
    }
   ],
   "source": [
    "data_topdev.info()"
   ]
  },
  {
   "cell_type": "code",
   "execution_count": 5,
   "id": "3e34fa70",
   "metadata": {},
   "outputs": [
    {
     "data": {
      "text/html": [
       "<div>\n",
       "<style scoped>\n",
       "    .dataframe tbody tr th:only-of-type {\n",
       "        vertical-align: middle;\n",
       "    }\n",
       "\n",
       "    .dataframe tbody tr th {\n",
       "        vertical-align: top;\n",
       "    }\n",
       "\n",
       "    .dataframe thead th {\n",
       "        text-align: right;\n",
       "    }\n",
       "</style>\n",
       "<table border=\"1\" class=\"dataframe\">\n",
       "  <thead>\n",
       "    <tr style=\"text-align: right;\">\n",
       "      <th></th>\n",
       "      <th>Job name</th>\n",
       "      <th>Company name</th>\n",
       "      <th>Lương</th>\n",
       "      <th>Skills</th>\n",
       "      <th>Address</th>\n",
       "      <th>Work days</th>\n",
       "      <th>Level</th>\n",
       "      <th>Kinh nghiệm</th>\n",
       "      <th>Company size</th>\n",
       "      <th>link</th>\n",
       "    </tr>\n",
       "  </thead>\n",
       "  <tbody>\n",
       "    <tr>\n",
       "      <th>count</th>\n",
       "      <td>275</td>\n",
       "      <td>275</td>\n",
       "      <td>275</td>\n",
       "      <td>275</td>\n",
       "      <td>275</td>\n",
       "      <td>275</td>\n",
       "      <td>275</td>\n",
       "      <td>274</td>\n",
       "      <td>275</td>\n",
       "      <td>275</td>\n",
       "    </tr>\n",
       "    <tr>\n",
       "      <th>unique</th>\n",
       "      <td>259</td>\n",
       "      <td>120</td>\n",
       "      <td>54</td>\n",
       "      <td>240</td>\n",
       "      <td>32</td>\n",
       "      <td>2</td>\n",
       "      <td>19</td>\n",
       "      <td>27</td>\n",
       "      <td>9</td>\n",
       "      <td>275</td>\n",
       "    </tr>\n",
       "    <tr>\n",
       "      <th>top</th>\n",
       "      <td>Backend Developer</td>\n",
       "      <td>MBBANK</td>\n",
       "      <td>Negotiable</td>\n",
       "      <td>Business Analyst</td>\n",
       "      <td>Quận Cầu Giấy, Hà Nội</td>\n",
       "      <td>Fulltime</td>\n",
       "      <td>Middle, Senior</td>\n",
       "      <td>3 năm</td>\n",
       "      <td>Hơn 1000 Employees</td>\n",
       "      <td>https://topdev.vn/detail-jobs/chuyen-vien-kiem...</td>\n",
       "    </tr>\n",
       "    <tr>\n",
       "      <th>freq</th>\n",
       "      <td>3</td>\n",
       "      <td>24</td>\n",
       "      <td>197</td>\n",
       "      <td>4</td>\n",
       "      <td>57</td>\n",
       "      <td>274</td>\n",
       "      <td>65</td>\n",
       "      <td>70</td>\n",
       "      <td>72</td>\n",
       "      <td>1</td>\n",
       "    </tr>\n",
       "  </tbody>\n",
       "</table>\n",
       "</div>"
      ],
      "text/plain": [
       "                 Job name Company name       Lương            Skills  \\\n",
       "count                 275          275         275               275   \n",
       "unique                259          120          54               240   \n",
       "top     Backend Developer       MBBANK  Negotiable  Business Analyst   \n",
       "freq                    3           24         197                 4   \n",
       "\n",
       "                      Address Work days           Level Kinh nghiệm  \\\n",
       "count                     275       275             275         274   \n",
       "unique                     32         2              19          27   \n",
       "top     Quận Cầu Giấy, Hà Nội  Fulltime  Middle, Senior       3 năm   \n",
       "freq                       57       274              65          70   \n",
       "\n",
       "              Company size                                               link  \n",
       "count                  275                                                275  \n",
       "unique                   9                                                275  \n",
       "top     Hơn 1000 Employees  https://topdev.vn/detail-jobs/chuyen-vien-kiem...  \n",
       "freq                    72                                                  1  "
      ]
     },
     "execution_count": 5,
     "metadata": {},
     "output_type": "execute_result"
    }
   ],
   "source": [
    "data_topdev.describe()"
   ]
  },
  {
   "cell_type": "code",
   "execution_count": null,
   "id": "5be7858c",
   "metadata": {},
   "outputs": [],
   "source": []
  },
  {
   "cell_type": "code",
   "execution_count": null,
   "id": "8eb2372b",
   "metadata": {},
   "outputs": [],
   "source": [
    "# in ra số dòng của data_topdev\n",
    "print(data_topdev.shape[0])"
   ]
  },
  {
   "cell_type": "code",
   "execution_count": null,
   "id": "1f1eb83d",
   "metadata": {},
   "outputs": [
    {
     "name": "stdout",
     "output_type": "stream",
     "text": [
      "Index(['Job name', 'Company name', 'Lương', 'Skills', 'Address', 'Work days',\n",
      "       'Level', 'Kinh nghiệm', 'Company size', 'link'],\n",
      "      dtype='object')\n",
      "10\n"
     ]
    }
   ],
   "source": [
    "# in ra tên các cột\n",
    "print(data_topdev.columns)\n",
    "# in ra số lượng cột\n",
    "print(data_topdev.shape[1])"
   ]
  },
  {
   "cell_type": "code",
   "execution_count": null,
   "id": "710da733",
   "metadata": {},
   "outputs": [],
   "source": []
  },
  {
   "cell_type": "code",
   "execution_count": null,
   "id": "a7f9a0d0",
   "metadata": {},
   "outputs": [],
   "source": [
    "# in ra columns của itviet\n",
    "data_itviet_cleaned = pd.read_csv(\"itviet_cleaned.csv\")\n",
    "print(data_itviet_cleaned.columns)\n",
    "print(data_itviet_cleaned.shape[1])"
   ]
  },
  {
   "cell_type": "code",
   "execution_count": null,
   "id": "82951a66",
   "metadata": {},
   "outputs": [],
   "source": []
  },
  {
   "cell_type": "code",
   "execution_count": null,
   "id": "e291a916",
   "metadata": {},
   "outputs": [],
   "source": [
    "# xem thử 2 dòng đầu topdev\n",
    "data_topdev.head(2)"
   ]
  },
  {
   "cell_type": "code",
   "execution_count": null,
   "id": "89de4e98",
   "metadata": {},
   "outputs": [],
   "source": [
    "# xem thử 2 dòng đầu itviet\n",
    "data_itviet_cleaned.head(2)"
   ]
  },
  {
   "cell_type": "code",
   "execution_count": null,
   "id": "87eaf734",
   "metadata": {},
   "outputs": [],
   "source": []
  },
  {
   "cell_type": "code",
   "execution_count": null,
   "id": "a957a7c9",
   "metadata": {},
   "outputs": [],
   "source": [
    "# in ra những link bị trùng trong itviet_cleaned.csv\n",
    "data_itviet_cleaned = pd.read_csv(\"itviet_cleaned.csv\")\n",
    "duplicate_links = data_itviet_cleaned[data_itviet_cleaned.duplicated(subset=['link'], keep=False)]\n",
    "print(duplicate_links)"
   ]
  },
  {
   "cell_type": "code",
   "execution_count": null,
   "id": "e569086b",
   "metadata": {},
   "outputs": [],
   "source": [
    "# in ra những link bị trùng trong topdev_test.csv\n",
    "duplicate_links_topdev = data_topdev[data_topdev.duplicated(subset=['link'], keep=False)]\n",
    "print(duplicate_links_topdev)"
   ]
  },
  {
   "cell_type": "code",
   "execution_count": null,
   "id": "863a5a88",
   "metadata": {},
   "outputs": [],
   "source": []
  },
  {
   "cell_type": "code",
   "execution_count": null,
   "id": "040b9fe3",
   "metadata": {},
   "outputs": [],
   "source": [
    "# cột 'Work at' trong itviet_cleaned.csv có những loại unique nào\n",
    "data_itviet_cleaned = pd.read_csv(\"itviet_cleaned.csv\")\n",
    "print(data_itviet_cleaned['Work at'].unique())"
   ]
  },
  {
   "cell_type": "code",
   "execution_count": null,
   "id": "20506dad",
   "metadata": {},
   "outputs": [],
   "source": [
    "print(data_itviet_cleaned['Work days'].unique())"
   ]
  },
  {
   "cell_type": "code",
   "execution_count": null,
   "id": "7a367246",
   "metadata": {},
   "outputs": [],
   "source": [
    "data_topdev = pd.read_csv(\"topdev_test.csv\")\n",
    "print(data_topdev['Work days'].unique())"
   ]
  },
  {
   "cell_type": "code",
   "execution_count": null,
   "id": "10ad1073",
   "metadata": {},
   "outputs": [],
   "source": []
  },
  {
   "cell_type": "markdown",
   "id": "f42a30ea",
   "metadata": {},
   "source": [
    "## Nối 2 files csv"
   ]
  },
  {
   "cell_type": "code",
   "execution_count": null,
   "id": "4157af01",
   "metadata": {},
   "outputs": [],
   "source": [
    "import pandas as pd\n",
    "\n",
    "# Đọc hai file CSV\n",
    "df_itviet = pd.read_csv('itviet_cleaned.csv')\n",
    "df_topdev = pd.read_csv('topdev_test.csv')\n",
    "\n",
    "# Xác định tập hợp tất cả các cột từ cả hai DataFrame\n",
    "all_columns = sorted(set(df_itviet.columns).union(set(df_topdev.columns)))\n",
    "\n",
    "# Chuẩn hóa hai DataFrame để có cùng cột, điền thiếu bằng NaN\n",
    "df_itviet_full = df_itviet.reindex(columns=all_columns)\n",
    "df_topdev_full = df_topdev.reindex(columns=all_columns)\n",
    "\n",
    "# Ghép hai DataFrame lại với nhau\n",
    "df_combined = pd.concat([df_itviet_full, df_topdev_full], ignore_index=True)\n",
    "\n",
    "# Lưu ra file mới\n",
    "df_combined.to_csv('combined_jobs.csv', encoding='utf-8-sig', index=False)"
   ]
  },
  {
   "cell_type": "code",
   "execution_count": null,
   "id": "5e3f4407",
   "metadata": {},
   "outputs": [],
   "source": []
  },
  {
   "cell_type": "code",
   "execution_count": null,
   "id": "669c510d",
   "metadata": {},
   "outputs": [],
   "source": [
    "# đếm số dòng của itviet_cleaned, topdev_test, combined_jobs\n",
    "data_itvietclean = pd.read_csv(\"itviet_cleaned.csv\")\n",
    "data_topdev = pd.read_csv(\"topdev_test.csv\")\n",
    "data_combined = pd.read_csv(\"combined_jobs.csv\")\n",
    "\n",
    "print(\"Số dòng của itviet_cleaned:\", data_itvietclean.shape[0])\n",
    "print(\"Số dòng của topdev_test:\", data_topdev.shape[0])\n",
    "print(\"Số dòng của combined_jobs:\", data_combined.shape[0])"
   ]
  },
  {
   "cell_type": "code",
   "execution_count": null,
   "id": "cd26dc64",
   "metadata": {},
   "outputs": [],
   "source": []
  },
  {
   "cell_type": "code",
   "execution_count": null,
   "id": "564f3d95",
   "metadata": {},
   "outputs": [],
   "source": [
    "import pandas as pd\n",
    "\n",
    "# Đọc file CSV\n",
    "df = pd.read_csv('combined_jobs.csv')\n",
    "\n",
    "# Xác định thứ tự cột mong muốn\n",
    "desired_order = [\n",
    "    'Job name', 'Company name', 'Star', 'Lương', 'Skills', 'Job Expertise',\n",
    "    'Job Domain', 'Kinh nghiệm', 'Level', 'Work at', 'Work days',\n",
    "    'Company size', 'Address', 'Company industry', 'Company country', 'link'\n",
    "]\n",
    "\n",
    "# Đảm bảo các cột còn thiếu được thêm vào với giá trị NaN\n",
    "for col in desired_order:\n",
    "    if col not in df.columns:\n",
    "        df[col] = pd.NA\n",
    "\n",
    "# Sắp xếp lại thứ tự cột\n",
    "df = df[desired_order]\n",
    "\n",
    "# Lưu ra file mới\n",
    "df.to_csv('combined_jobs_ordered.csv', encoding='utf-8-sig', index=False)"
   ]
  },
  {
   "cell_type": "code",
   "execution_count": null,
   "id": "15d2f3d8",
   "metadata": {},
   "outputs": [],
   "source": [
    "# số dòng của combined_jobs_ordered.csv\n",
    "data_combined_ordered = pd.read_csv(\"combined_jobs_ordered.csv\")\n",
    "print(\"Số dòng của combined_jobs_ordered.csv:\", data_combined_ordered.shape[0])"
   ]
  },
  {
   "cell_type": "code",
   "execution_count": null,
   "id": "d756100b",
   "metadata": {},
   "outputs": [],
   "source": [
    "# in ra những cột Job name null\n",
    "data_combined_ordered[data_combined_ordered['Job name'].isnull()]"
   ]
  },
  {
   "cell_type": "code",
   "execution_count": null,
   "id": "1457c0a2",
   "metadata": {},
   "outputs": [],
   "source": [
    "# kiểm tra kiểu dữ liệu của các cột trong combined_jobs_ordered.csv\n",
    "data_combined_ordered.dtypes"
   ]
  },
  {
   "cell_type": "code",
   "execution_count": null,
   "id": "f9d946b1",
   "metadata": {},
   "outputs": [],
   "source": [
    "# in ra tất cả unique cột Lương\n",
    "df = pd.read_csv('combined_jobs_ordered.csv')\n",
    "unique_salaries = df['Lương'].unique()\n",
    "print(len(unique_salaries))"
   ]
  },
  {
   "cell_type": "code",
   "execution_count": null,
   "id": "2c998d17",
   "metadata": {},
   "outputs": [],
   "source": [
    "# lưu tất cả unique cột Lương vào file text\n",
    "with open('unique_salaries.txt', 'w', encoding='utf-8') as f:\n",
    "    for sal in unique_salaries:\n",
    "        f.write(f\"{sal}\\n\")"
   ]
  },
  {
   "cell_type": "markdown",
   "id": "cb4d0a8e",
   "metadata": {},
   "source": []
  },
  {
   "cell_type": "code",
   "execution_count": null,
   "id": "c4209ab5",
   "metadata": {},
   "outputs": [],
   "source": []
  },
  {
   "cell_type": "code",
   "execution_count": null,
   "id": "4b6321b3",
   "metadata": {},
   "outputs": [],
   "source": []
  }
 ],
 "metadata": {
  "kernelspec": {
   "display_name": "base",
   "language": "python",
   "name": "python3"
  },
  "language_info": {
   "codemirror_mode": {
    "name": "ipython",
    "version": 3
   },
   "file_extension": ".py",
   "mimetype": "text/x-python",
   "name": "python",
   "nbconvert_exporter": "python",
   "pygments_lexer": "ipython3",
   "version": "3.10.9"
  }
 },
 "nbformat": 4,
 "nbformat_minor": 5
}
